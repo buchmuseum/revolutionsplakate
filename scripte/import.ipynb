{
 "cells": [
  {
   "cell_type": "code",
   "execution_count": 1,
   "metadata": {},
   "outputs": [],
   "source": [
    "import pandas as pd\n",
    "from datetime import datetime\n",
    "\n",
    "rawpath = '../raw'"
   ]
  },
  {
   "cell_type": "code",
   "execution_count": 16,
   "metadata": {},
   "outputs": [],
   "source": [
    "# excel nach csv konvertieren\n",
    "df = pd.read_excel(f'{rawpath}/Plakate_1918-20_ImportCBS.xlsx', names=['entstehungszeit','erscheinungsort','titel','verlagsort','sammlung41','sammlung67','signatur'], dtype={'entstehungszeit':str})\n",
    "df.loc[df.verlagsort == 'Deutschland ', 'verlagsort'] = 'Deutschland'\n",
    "df.loc[df.verlagsort == 'Frankfurt am Main ', 'verlagsort'] = 'Frankfurt am Main'\n"
   ]
  },
  {
   "cell_type": "code",
   "execution_count": 17,
   "metadata": {},
   "outputs": [],
   "source": [
    "def pica_schreiben(row):\n",
    "    pica = f\"\"\"\\t\\n0500 Pa\n",
    "0501 Text$btxt\n",
    "0502 ohne Hilfsmittel zu benutzen$bn\n",
    "0503 Blatt$bnb\n",
    "0600 yy\\n\"\"\"\n",
    "    \n",
    "    if len(str(row.entstehungszeit)) > 0 and len(str(row.entstehungszeit)) < 5:\n",
    "        # nur ein datum\n",
    "        pica += f\"1100 {row.entstehungszeit}\\n1110 *{row.entstehungszeit}$4ezth\\n\"\n",
    "    elif len(str(row.entstehungszeit)) > 4 and len(str(row.entstehungszeit)) < 10:\n",
    "        # 1100 1918$n[zwischen 1918 und 1920]\n",
    "        # 1110 zwischen 1918 und 1920*1918-1920$a1918$b1920$4ezth\n",
    "        pica += f\"1100 {row.entstehungszeit[:4]}$n[zwischen {row.entstehungszeit[:4]} und {row.entstehungszeit[5:]}]\\n1110 zwischen {row.entstehungszeit[:4]} und {row.entstehungszeit[5:]}*{row.entstehungszeit}$a{row.entstehungszeit[:4]}$b{row.entstehungszeit[5:]}$4ezth\\n\"\n",
    "        # wohl zwei daten\n",
    "    else:\n",
    "        pica += \"\\n\\n1100 FEHLER\\n\\n\"\n",
    "    \n",
    "    pica += f\"\"\"1130 TB-papier\n",
    "1130 !040445224!\n",
    "1132 a1-analog;a2-druck;f2-blatt\n",
    "1500 /1ger\n",
    "1700 /1{row.erscheinungsort}\n",
    "2105 04,P01\n",
    "4000 Plakat Nr. {row.titel} der Revolutionssammlung 1918-1920\n",
    "4019 Plakat Nr. {row.titel} der Revolutionssammlung 1918-1920\\n\"\"\"\n",
    "    \n",
    "    if pd.isna(row.verlagsort):\n",
    "        pica += \"4030 [Ort nicht ermittelbar] : [Verlag nicht ermittelbar]\\n\"\n",
    "    else:\n",
    "        pica += f\"4030 [{row.verlagsort.strip()}] : [Verlag nicht ermittelbar]\\n\"\n",
    "    \n",
    "    pica += f\"\"\"4060 1 ungezähltes Blatt\n",
    "4105 !1122570686!\n",
    "4105 {row.sammlung41}\n",
    "4700 |BSM|\n",
    "5590 [Objektgattung]\n",
    "5590 !041133579!\n",
    "7001 {now.strftime('%d-%m-%y')} : x\n",
    "6710 {row.sammlung67.strip()}\n",
    "6800 [Provenienz]\n",
    "6800 !004709608! *1961-1993\n",
    "6800 Stempel\n",
    "7100 GS PL Nov @ m\n",
    "7109 !!DBSM/S!! ; GS PL {row.titel}\n",
    "8034 Dieses Plakat ist Teil eines Erschließungsprojekts und derzeit nicht ausleihbar.\\n\"\"\"\n",
    "    return pica\n"
   ]
  },
  {
   "cell_type": "code",
   "execution_count": 18,
   "metadata": {},
   "outputs": [],
   "source": [
    "now = datetime.now()\n",
    "with open(f\"../dat/revolutionsplakate-{now.strftime('%y-%m-%d-%H-%M-%S')}.dat\",\"w\") as f:\n",
    "    with open(f\"../dat/revolutionsplakate-recent.dat\", 'w') as f2:\n",
    "        for index, row in df.iterrows():\n",
    "            f.write(pica_schreiben(row))\n",
    "            f2.write(pica_schreiben(row))\n",
    "\n",
    "with open(f\"../dat/revolutionsplakate-recent-sample.dat\", 'w') as f:\n",
    "    for row in df.sample(5).itertuples():\n",
    "        f.write(pica_schreiben(row))"
   ]
  },
  {
   "cell_type": "code",
   "execution_count": 4,
   "metadata": {},
   "outputs": [],
   "source": [
    "now = datetime.now()\n",
    "with open(f\"../dat/revolutionsplakate-final-appr.dat\", 'w') as f:\n",
    "    for row in df.sample(378).itertuples():\n",
    "        f.write(pica_schreiben(row))\n"
   ]
  },
  {
   "cell_type": "code",
   "execution_count": null,
   "metadata": {},
   "outputs": [],
   "source": []
  }
 ],
 "metadata": {
  "interpreter": {
   "hash": "38a0ceb85f85fd539473cb85d04a14017399479d0b02a39a4c1fbbb91cb48921"
  },
  "kernelspec": {
   "display_name": "Python 3.8.5 64-bit ('base': conda)",
   "language": "python",
   "name": "python3"
  },
  "language_info": {
   "codemirror_mode": {
    "name": "ipython",
    "version": 3
   },
   "file_extension": ".py",
   "mimetype": "text/x-python",
   "name": "python",
   "nbconvert_exporter": "python",
   "pygments_lexer": "ipython3",
   "version": "3.9.7"
  },
  "orig_nbformat": 4
 },
 "nbformat": 4,
 "nbformat_minor": 2
}
